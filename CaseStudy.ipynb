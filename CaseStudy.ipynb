{
 "cells": [
  {
   "cell_type": "markdown",
   "metadata": {},
   "source": [
    "# Explorating Data Analysis"
   ]
  },
  {
   "cell_type": "code",
   "execution_count": 1,
   "metadata": {},
   "outputs": [],
   "source": [
    "#Importing the requited libraries"
   ]
  },
  {
   "cell_type": "code",
   "execution_count": 1,
   "metadata": {},
   "outputs": [],
   "source": [
    "import pandas as pd\n",
    "import numpy as np\n",
    "from sklearn import preprocessing\n",
    "import matplotlib.pyplot as plt \n",
    "plt.rc(\"font\", size=14)\n",
    "from sklearn.model_selection import train_test_split\n",
    "from sklearn import metrics #Import scikit-learn metrics module for accuracy calculation\n",
    "import seaborn as sns\n",
    "\n",
    "sns.set(style=\"white\")\n",
    "sns.set(style=\"whitegrid\", color_codes=True)"
   ]
  },
  {
   "cell_type": "markdown",
   "metadata": {},
   "source": [
    "# Reading the data\n"
   ]
  },
  {
   "cell_type": "code",
   "execution_count": 2,
   "metadata": {},
   "outputs": [
    {
     "data": {
      "text/html": [
       "<div>\n",
       "<style scoped>\n",
       "    .dataframe tbody tr th:only-of-type {\n",
       "        vertical-align: middle;\n",
       "    }\n",
       "\n",
       "    .dataframe tbody tr th {\n",
       "        vertical-align: top;\n",
       "    }\n",
       "\n",
       "    .dataframe thead th {\n",
       "        text-align: right;\n",
       "    }\n",
       "</style>\n",
       "<table border=\"1\" class=\"dataframe\">\n",
       "  <thead>\n",
       "    <tr style=\"text-align: right;\">\n",
       "      <th></th>\n",
       "      <th>Visitor_Identifier</th>\n",
       "      <th>Avg_Session_Duration</th>\n",
       "      <th>avg_time_on_page</th>\n",
       "      <th>Channel_Grouping</th>\n",
       "      <th>device_category</th>\n",
       "      <th>non_shopper</th>\n",
       "      <th>Pages_Session</th>\n",
       "      <th>pageviews</th>\n",
       "      <th>Session_1plus_minute</th>\n",
       "      <th>Session_3plus_minutes</th>\n",
       "      <th>Session_3plus_pages</th>\n",
       "      <th>Session_5plus_minutes</th>\n",
       "      <th>Session_5plus_pages</th>\n",
       "      <th>session_duration</th>\n",
       "      <th>sessions</th>\n",
       "      <th>Unique_Views2_BU</th>\n",
       "      <th>user_type</th>\n",
       "      <th>Lead _Form_submission</th>\n",
       "    </tr>\n",
       "  </thead>\n",
       "  <tbody>\n",
       "    <tr>\n",
       "      <th>0</th>\n",
       "      <td>1.767882e+09</td>\n",
       "      <td>210.00</td>\n",
       "      <td>210.0</td>\n",
       "      <td>Paid Search</td>\n",
       "      <td>desktop</td>\n",
       "      <td>Yes</td>\n",
       "      <td>2.0</td>\n",
       "      <td>8</td>\n",
       "      <td>1</td>\n",
       "      <td>1</td>\n",
       "      <td>1</td>\n",
       "      <td>1</td>\n",
       "      <td>0</td>\n",
       "      <td>840</td>\n",
       "      <td>4</td>\n",
       "      <td>0</td>\n",
       "      <td>Returning Visitor</td>\n",
       "      <td>0</td>\n",
       "    </tr>\n",
       "    <tr>\n",
       "      <th>1</th>\n",
       "      <td>1.604589e+09</td>\n",
       "      <td>0.00</td>\n",
       "      <td>0.0</td>\n",
       "      <td>Paid Search</td>\n",
       "      <td>desktop</td>\n",
       "      <td>No</td>\n",
       "      <td>1.0</td>\n",
       "      <td>10</td>\n",
       "      <td>0</td>\n",
       "      <td>0</td>\n",
       "      <td>0</td>\n",
       "      <td>0</td>\n",
       "      <td>0</td>\n",
       "      <td>0</td>\n",
       "      <td>10</td>\n",
       "      <td>0</td>\n",
       "      <td>Returning Visitor</td>\n",
       "      <td>0</td>\n",
       "    </tr>\n",
       "    <tr>\n",
       "      <th>2</th>\n",
       "      <td>1.515450e+09</td>\n",
       "      <td>108.33</td>\n",
       "      <td>54.0</td>\n",
       "      <td>Paid Search</td>\n",
       "      <td>desktop</td>\n",
       "      <td>Yes</td>\n",
       "      <td>3.0</td>\n",
       "      <td>9</td>\n",
       "      <td>1</td>\n",
       "      <td>1</td>\n",
       "      <td>1</td>\n",
       "      <td>1</td>\n",
       "      <td>1</td>\n",
       "      <td>325</td>\n",
       "      <td>3</td>\n",
       "      <td>0</td>\n",
       "      <td>Returning Visitor</td>\n",
       "      <td>0</td>\n",
       "    </tr>\n",
       "    <tr>\n",
       "      <th>3</th>\n",
       "      <td>4.077739e+08</td>\n",
       "      <td>15.00</td>\n",
       "      <td>0.0</td>\n",
       "      <td>Paid Search</td>\n",
       "      <td>desktop</td>\n",
       "      <td>No</td>\n",
       "      <td>1.0</td>\n",
       "      <td>2</td>\n",
       "      <td>0</td>\n",
       "      <td>0</td>\n",
       "      <td>0</td>\n",
       "      <td>0</td>\n",
       "      <td>0</td>\n",
       "      <td>30</td>\n",
       "      <td>2</td>\n",
       "      <td>0</td>\n",
       "      <td>Returning Visitor</td>\n",
       "      <td>0</td>\n",
       "    </tr>\n",
       "    <tr>\n",
       "      <th>4</th>\n",
       "      <td>1.070705e+09</td>\n",
       "      <td>0.00</td>\n",
       "      <td>0.0</td>\n",
       "      <td>Paid Search</td>\n",
       "      <td>mobile</td>\n",
       "      <td>No</td>\n",
       "      <td>1.0</td>\n",
       "      <td>1</td>\n",
       "      <td>0</td>\n",
       "      <td>0</td>\n",
       "      <td>0</td>\n",
       "      <td>0</td>\n",
       "      <td>0</td>\n",
       "      <td>0</td>\n",
       "      <td>1</td>\n",
       "      <td>0</td>\n",
       "      <td>New Visitor</td>\n",
       "      <td>0</td>\n",
       "    </tr>\n",
       "  </tbody>\n",
       "</table>\n",
       "</div>"
      ],
      "text/plain": [
       "   Visitor_Identifier  Avg_Session_Duration  avg_time_on_page  \\\n",
       "0        1.767882e+09                210.00             210.0   \n",
       "1        1.604589e+09                  0.00               0.0   \n",
       "2        1.515450e+09                108.33              54.0   \n",
       "3        4.077739e+08                 15.00               0.0   \n",
       "4        1.070705e+09                  0.00               0.0   \n",
       "\n",
       "  Channel_Grouping device_category non_shopper  Pages_Session  pageviews  \\\n",
       "0      Paid Search         desktop         Yes            2.0          8   \n",
       "1      Paid Search         desktop          No            1.0         10   \n",
       "2      Paid Search         desktop         Yes            3.0          9   \n",
       "3      Paid Search         desktop          No            1.0          2   \n",
       "4      Paid Search          mobile          No            1.0          1   \n",
       "\n",
       "   Session_1plus_minute  Session_3plus_minutes  Session_3plus_pages  \\\n",
       "0                     1                      1                    1   \n",
       "1                     0                      0                    0   \n",
       "2                     1                      1                    1   \n",
       "3                     0                      0                    0   \n",
       "4                     0                      0                    0   \n",
       "\n",
       "   Session_5plus_minutes  Session_5plus_pages  session_duration  sessions  \\\n",
       "0                      1                    0               840         4   \n",
       "1                      0                    0                 0        10   \n",
       "2                      1                    1               325         3   \n",
       "3                      0                    0                30         2   \n",
       "4                      0                    0                 0         1   \n",
       "\n",
       "   Unique_Views2_BU          user_type  Lead _Form_submission  \n",
       "0                 0  Returning Visitor                      0  \n",
       "1                 0  Returning Visitor                      0  \n",
       "2                 0  Returning Visitor                      0  \n",
       "3                 0  Returning Visitor                      0  \n",
       "4                 0        New Visitor                      0  "
      ]
     },
     "execution_count": 2,
     "metadata": {},
     "output_type": "execute_result"
    }
   ],
   "source": [
    "data = pd.read_csv('C:/Users/apaul/Documents/impdocuments/CaseStudy/Data.csv',encoding = \"ISO-8859-1\")\n",
    "\n",
    "data.head()"
   ]
  },
  {
   "cell_type": "code",
   "execution_count": 3,
   "metadata": {},
   "outputs": [
    {
     "data": {
      "text/plain": [
       "(49420, 18)"
      ]
     },
     "execution_count": 3,
     "metadata": {},
     "output_type": "execute_result"
    }
   ],
   "source": [
    "data.shape"
   ]
  },
  {
   "cell_type": "code",
   "execution_count": 4,
   "metadata": {},
   "outputs": [],
   "source": [
    "#Drop the Constant Variables \n",
    "\n",
    "data1 = data.drop(['Visitor_Identifier','Channel_Grouping'\n",
    "                     ],axis = 1)\n"
   ]
  },
  {
   "cell_type": "markdown",
   "metadata": {},
   "source": [
    "# Correlation matrix"
   ]
  },
  {
   "cell_type": "code",
   "execution_count": 5,
   "metadata": {},
   "outputs": [
    {
     "data": {
      "image/png": "[encoded data removed]",
      "text/plain": [
       "<Figure size 1080x864 with 2 Axes>"
      ]
     },
     "metadata": {},
     "output_type": "display_data"
    },
    {
     "data": {
      "text/plain": [
       "None"
      ]
     },
     "metadata": {},
     "output_type": "display_data"
    }
   ],
   "source": [
    "#create a correlation matrix\n",
    "corr = data1.corr()  \n",
    "plt.figure(figsize=(15, 12))\n",
    "sns.heatmap(corr[(corr >= 0.6) | (corr <= -0.7)], \n",
    "            cmap='viridis', vmax=1.0, vmin=-1.0, linewidths=0.1,\n",
    "            annot=True, annot_kws={\"size\": 8}, square=True)\n",
    "plt.tight_layout()\n",
    "display(plt.show())"
   ]
  },
  {
   "cell_type": "code",
   "execution_count": 6,
   "metadata": {},
   "outputs": [
    {
     "data": {
      "text/html": [
       "<div>\n",
       "<style scoped>\n",
       "    .dataframe tbody tr th:only-of-type {\n",
       "        vertical-align: middle;\n",
       "    }\n",
       "\n",
       "    .dataframe tbody tr th {\n",
       "        vertical-align: top;\n",
       "    }\n",
       "\n",
       "    .dataframe thead th {\n",
       "        text-align: right;\n",
       "    }\n",
       "</style>\n",
       "<table border=\"1\" class=\"dataframe\">\n",
       "  <thead>\n",
       "    <tr style=\"text-align: right;\">\n",
       "      <th></th>\n",
       "      <th>Avg_Session_Duration</th>\n",
       "      <th>avg_time_on_page</th>\n",
       "      <th>Pages_Session</th>\n",
       "      <th>pageviews</th>\n",
       "      <th>Session_1plus_minute</th>\n",
       "      <th>Session_3plus_minutes</th>\n",
       "      <th>Session_3plus_pages</th>\n",
       "      <th>Session_5plus_minutes</th>\n",
       "      <th>Session_5plus_pages</th>\n",
       "      <th>session_duration</th>\n",
       "      <th>sessions</th>\n",
       "      <th>Unique_Views2_BU</th>\n",
       "      <th>Lead _Form_submission</th>\n",
       "    </tr>\n",
       "  </thead>\n",
       "  <tbody>\n",
       "    <tr>\n",
       "      <th>Avg_Session_Duration</th>\n",
       "      <td>1.000000</td>\n",
       "      <td>0.687368</td>\n",
       "      <td>0.440859</td>\n",
       "      <td>0.197695</td>\n",
       "      <td>0.432602</td>\n",
       "      <td>0.468437</td>\n",
       "      <td>0.258571</td>\n",
       "      <td>0.467881</td>\n",
       "      <td>0.246462</td>\n",
       "      <td>0.458367</td>\n",
       "      <td>0.055335</td>\n",
       "      <td>0.142446</td>\n",
       "      <td>0.285155</td>\n",
       "    </tr>\n",
       "    <tr>\n",
       "      <th>avg_time_on_page</th>\n",
       "      <td>0.687368</td>\n",
       "      <td>1.000000</td>\n",
       "      <td>0.229549</td>\n",
       "      <td>0.219999</td>\n",
       "      <td>0.435477</td>\n",
       "      <td>0.465408</td>\n",
       "      <td>0.129718</td>\n",
       "      <td>0.468211</td>\n",
       "      <td>0.079690</td>\n",
       "      <td>0.451036</td>\n",
       "      <td>0.171037</td>\n",
       "      <td>0.067231</td>\n",
       "      <td>0.263225</td>\n",
       "    </tr>\n",
       "    <tr>\n",
       "      <th>Pages_Session</th>\n",
       "      <td>0.440859</td>\n",
       "      <td>0.229549</td>\n",
       "      <td>1.000000</td>\n",
       "      <td>0.347996</td>\n",
       "      <td>0.370233</td>\n",
       "      <td>0.289197</td>\n",
       "      <td>0.462151</td>\n",
       "      <td>0.241478</td>\n",
       "      <td>0.486424</td>\n",
       "      <td>0.213617</td>\n",
       "      <td>0.041102</td>\n",
       "      <td>0.224320</td>\n",
       "      <td>0.322139</td>\n",
       "    </tr>\n",
       "    <tr>\n",
       "      <th>pageviews</th>\n",
       "      <td>0.197695</td>\n",
       "      <td>0.219999</td>\n",
       "      <td>0.347996</td>\n",
       "      <td>1.000000</td>\n",
       "      <td>0.685883</td>\n",
       "      <td>0.693246</td>\n",
       "      <td>0.703146</td>\n",
       "      <td>0.688524</td>\n",
       "      <td>0.585567</td>\n",
       "      <td>0.715413</td>\n",
       "      <td>0.857184</td>\n",
       "      <td>0.116375</td>\n",
       "      <td>0.072328</td>\n",
       "    </tr>\n",
       "    <tr>\n",
       "      <th>Session_1plus_minute</th>\n",
       "      <td>0.432602</td>\n",
       "      <td>0.435477</td>\n",
       "      <td>0.370233</td>\n",
       "      <td>0.685883</td>\n",
       "      <td>1.000000</td>\n",
       "      <td>0.855656</td>\n",
       "      <td>0.610633</td>\n",
       "      <td>0.806668</td>\n",
       "      <td>0.452418</td>\n",
       "      <td>0.810282</td>\n",
       "      <td>0.476244</td>\n",
       "      <td>0.130632</td>\n",
       "      <td>0.327676</td>\n",
       "    </tr>\n",
       "    <tr>\n",
       "      <th>Session_3plus_minutes</th>\n",
       "      <td>0.468437</td>\n",
       "      <td>0.465408</td>\n",
       "      <td>0.289197</td>\n",
       "      <td>0.693246</td>\n",
       "      <td>0.855656</td>\n",
       "      <td>1.000000</td>\n",
       "      <td>0.610726</td>\n",
       "      <td>0.932067</td>\n",
       "      <td>0.467996</td>\n",
       "      <td>0.894319</td>\n",
       "      <td>0.502868</td>\n",
       "      <td>0.126293</td>\n",
       "      <td>0.166547</td>\n",
       "    </tr>\n",
       "    <tr>\n",
       "      <th>Session_3plus_pages</th>\n",
       "      <td>0.258571</td>\n",
       "      <td>0.129718</td>\n",
       "      <td>0.462151</td>\n",
       "      <td>0.703146</td>\n",
       "      <td>0.610633</td>\n",
       "      <td>0.610726</td>\n",
       "      <td>1.000000</td>\n",
       "      <td>0.586422</td>\n",
       "      <td>0.737137</td>\n",
       "      <td>0.587124</td>\n",
       "      <td>0.342831</td>\n",
       "      <td>0.169580</td>\n",
       "      <td>0.079266</td>\n",
       "    </tr>\n",
       "    <tr>\n",
       "      <th>Session_5plus_minutes</th>\n",
       "      <td>0.467881</td>\n",
       "      <td>0.468211</td>\n",
       "      <td>0.241478</td>\n",
       "      <td>0.688524</td>\n",
       "      <td>0.806668</td>\n",
       "      <td>0.932067</td>\n",
       "      <td>0.586422</td>\n",
       "      <td>1.000000</td>\n",
       "      <td>0.453488</td>\n",
       "      <td>0.925927</td>\n",
       "      <td>0.512102</td>\n",
       "      <td>0.106276</td>\n",
       "      <td>0.098634</td>\n",
       "    </tr>\n",
       "    <tr>\n",
       "      <th>Session_5plus_pages</th>\n",
       "      <td>0.246462</td>\n",
       "      <td>0.079690</td>\n",
       "      <td>0.486424</td>\n",
       "      <td>0.585567</td>\n",
       "      <td>0.452418</td>\n",
       "      <td>0.467996</td>\n",
       "      <td>0.737137</td>\n",
       "      <td>0.453488</td>\n",
       "      <td>1.000000</td>\n",
       "      <td>0.453671</td>\n",
       "      <td>0.235360</td>\n",
       "      <td>0.208344</td>\n",
       "      <td>0.059543</td>\n",
       "    </tr>\n",
       "    <tr>\n",
       "      <th>session_duration</th>\n",
       "      <td>0.458367</td>\n",
       "      <td>0.451036</td>\n",
       "      <td>0.213617</td>\n",
       "      <td>0.715413</td>\n",
       "      <td>0.810282</td>\n",
       "      <td>0.894319</td>\n",
       "      <td>0.587124</td>\n",
       "      <td>0.925927</td>\n",
       "      <td>0.453671</td>\n",
       "      <td>1.000000</td>\n",
       "      <td>0.545800</td>\n",
       "      <td>0.099252</td>\n",
       "      <td>0.091567</td>\n",
       "    </tr>\n",
       "    <tr>\n",
       "      <th>sessions</th>\n",
       "      <td>0.055335</td>\n",
       "      <td>0.171037</td>\n",
       "      <td>0.041102</td>\n",
       "      <td>0.857184</td>\n",
       "      <td>0.476244</td>\n",
       "      <td>0.502868</td>\n",
       "      <td>0.342831</td>\n",
       "      <td>0.512102</td>\n",
       "      <td>0.235360</td>\n",
       "      <td>0.545800</td>\n",
       "      <td>1.000000</td>\n",
       "      <td>0.035000</td>\n",
       "      <td>-0.006769</td>\n",
       "    </tr>\n",
       "    <tr>\n",
       "      <th>Unique_Views2_BU</th>\n",
       "      <td>0.142446</td>\n",
       "      <td>0.067231</td>\n",
       "      <td>0.224320</td>\n",
       "      <td>0.116375</td>\n",
       "      <td>0.130632</td>\n",
       "      <td>0.126293</td>\n",
       "      <td>0.169580</td>\n",
       "      <td>0.106276</td>\n",
       "      <td>0.208344</td>\n",
       "      <td>0.099252</td>\n",
       "      <td>0.035000</td>\n",
       "      <td>1.000000</td>\n",
       "      <td>0.086420</td>\n",
       "    </tr>\n",
       "    <tr>\n",
       "      <th>Lead _Form_submission</th>\n",
       "      <td>0.285155</td>\n",
       "      <td>0.263225</td>\n",
       "      <td>0.322139</td>\n",
       "      <td>0.072328</td>\n",
       "      <td>0.327676</td>\n",
       "      <td>0.166547</td>\n",
       "      <td>0.079266</td>\n",
       "      <td>0.098634</td>\n",
       "      <td>0.059543</td>\n",
       "      <td>0.091567</td>\n",
       "      <td>-0.006769</td>\n",
       "      <td>0.086420</td>\n",
       "      <td>1.000000</td>\n",
       "    </tr>\n",
       "  </tbody>\n",
       "</table>\n",
       "</div>"
      ],
      "text/plain": [
       "                       Avg_Session_Duration  avg_time_on_page  Pages_Session  \\\n",
       "Avg_Session_Duration               1.000000          0.687368       0.440859   \n",
       "avg_time_on_page                   0.687368          1.000000       0.229549   \n",
       "Pages_Session                      0.440859          0.229549       1.000000   \n",
       "pageviews                          0.197695          0.219999       0.347996   \n",
       "Session_1plus_minute               0.432602          0.435477       0.370233   \n",
       "Session_3plus_minutes              0.468437          0.465408       0.289197   \n",
       "Session_3plus_pages                0.258571          0.129718       0.462151   \n",
       "Session_5plus_minutes              0.467881          0.468211       0.241478   \n",
       "Session_5plus_pages                0.246462          0.079690       0.486424   \n",
       "session_duration                   0.458367          0.451036       0.213617   \n",
       "sessions                           0.055335          0.171037       0.041102   \n",
       "Unique_Views2_BU                   0.142446          0.067231       0.224320   \n",
       "Lead _Form_submission              0.285155          0.263225       0.322139   \n",
       "\n",
       "                       pageviews  Session_1plus_minute  Session_3plus_minutes  \\\n",
       "Avg_Session_Duration    0.197695              0.432602               0.468437   \n",
       "avg_time_on_page        0.219999              0.435477               0.465408   \n",
       "Pages_Session           0.347996              0.370233               0.289197   \n",
       "pageviews               1.000000              0.685883               0.693246   \n",
       "Session_1plus_minute    0.685883              1.000000               0.855656   \n",
       "Session_3plus_minutes   0.693246              0.855656               1.000000   \n",
       "Session_3plus_pages     0.703146              0.610633               0.610726   \n",
       "Session_5plus_minutes   0.688524              0.806668               0.932067   \n",
       "Session_5plus_pages     0.585567              0.452418               0.467996   \n",
       "session_duration        0.715413              0.810282               0.894319   \n",
       "sessions                0.857184              0.476244               0.502868   \n",
       "Unique_Views2_BU        0.116375              0.130632               0.126293   \n",
       "Lead _Form_submission   0.072328              0.327676               0.166547   \n",
       "\n",
       "                       Session_3plus_pages  Session_5plus_minutes  \\\n",
       "Avg_Session_Duration              0.258571               0.467881   \n",
       "avg_time_on_page                  0.129718               0.468211   \n",
       "Pages_Session                     0.462151               0.241478   \n",
       "pageviews                         0.703146               0.688524   \n",
       "Session_1plus_minute              0.610633               0.806668   \n",
       "Session_3plus_minutes             0.610726               0.932067   \n",
       "Session_3plus_pages               1.000000               0.586422   \n",
       "Session_5plus_minutes             0.586422               1.000000   \n",
       "Session_5plus_pages               0.737137               0.453488   \n",
       "session_duration                  0.587124               0.925927   \n",
       "sessions                          0.342831               0.512102   \n",
       "Unique_Views2_BU                  0.169580               0.106276   \n",
       "Lead _Form_submission             0.079266               0.098634   \n",
       "\n",
       "                       Session_5plus_pages  session_duration  sessions  \\\n",
       "Avg_Session_Duration              0.246462          0.458367  0.055335   \n",
       "avg_time_on_page                  0.079690          0.451036  0.171037   \n",
       "Pages_Session                     0.486424          0.213617  0.041102   \n",
       "pageviews                         0.585567          0.715413  0.857184   \n",
       "Session_1plus_minute              0.452418          0.810282  0.476244   \n",
       "Session_3plus_minutes             0.467996          0.894319  0.502868   \n",
       "Session_3plus_pages               0.737137          0.587124  0.342831   \n",
       "Session_5plus_minutes             0.453488          0.925927  0.512102   \n",
       "Session_5plus_pages               1.000000          0.453671  0.235360   \n",
       "session_duration                  0.453671          1.000000  0.545800   \n",
       "sessions                          0.235360          0.545800  1.000000   \n",
       "Unique_Views2_BU                  0.208344          0.099252  0.035000   \n",
       "Lead _Form_submission             0.059543          0.091567 -0.006769   \n",
       "\n",
       "                       Unique_Views2_BU  Lead _Form_submission  \n",
       "Avg_Session_Duration           0.142446               0.285155  \n",
       "avg_time_on_page               0.067231               0.263225  \n",
       "Pages_Session                  0.224320               0.322139  \n",
       "pageviews                      0.116375               0.072328  \n",
       "Session_1plus_minute           0.130632               0.327676  \n",
       "Session_3plus_minutes          0.126293               0.166547  \n",
       "Session_3plus_pages            0.169580               0.079266  \n",
       "Session_5plus_minutes          0.106276               0.098634  \n",
       "Session_5plus_pages            0.208344               0.059543  \n",
       "session_duration               0.099252               0.091567  \n",
       "sessions                       0.035000              -0.006769  \n",
       "Unique_Views2_BU               1.000000               0.086420  \n",
       "Lead _Form_submission          0.086420               1.000000  "
      ]
     },
     "execution_count": 6,
     "metadata": {},
     "output_type": "execute_result"
    }
   ],
   "source": [
    "corr"
   ]
  },
  {
   "cell_type": "code",
   "execution_count": 8,
   "metadata": {},
   "outputs": [],
   "source": [
    "#Removing Variables that are highly correlated:"
   ]
  },
  {
   "cell_type": "code",
   "execution_count": 7,
   "metadata": {},
   "outputs": [],
   "source": [
    "data2 = data1.drop(['session_duration', 'Session_5plus_minutes', 'Session_3plus_minutes'],axis = 1)\n"
   ]
  },
  {
   "cell_type": "code",
   "execution_count": 8,
   "metadata": {},
   "outputs": [
    {
     "data": {
      "text/plain": [
       "(49420, 13)"
      ]
     },
     "execution_count": 8,
     "metadata": {},
     "output_type": "execute_result"
    }
   ],
   "source": [
    "data2.shape"
   ]
  },
  {
   "cell_type": "code",
   "execution_count": 11,
   "metadata": {},
   "outputs": [],
   "source": [
    "#Checking the Null Variables:"
   ]
  },
  {
   "cell_type": "code",
   "execution_count": 9,
   "metadata": {
    "scrolled": false
   },
   "outputs": [
    {
     "data": {
      "text/plain": [
       "Lead _Form_submission    0\n",
       "user_type                0\n",
       "Unique_Views2_BU         0\n",
       "sessions                 0\n",
       "Session_5plus_pages      0\n",
       "Session_3plus_pages      0\n",
       "Session_1plus_minute     0\n",
       "pageviews                0\n",
       "Pages_Session            0\n",
       "non_shopper              0\n",
       "device_category          0\n",
       "avg_time_on_page         0\n",
       "Avg_Session_Duration     0\n",
       "dtype: int64"
      ]
     },
     "execution_count": 9,
     "metadata": {},
     "output_type": "execute_result"
    }
   ],
   "source": [
    "data2.isnull().sum().sort_values(ascending=False)"
   ]
  },
  {
   "cell_type": "code",
   "execution_count": 10,
   "metadata": {},
   "outputs": [
    {
     "name": "stdout",
     "output_type": "stream",
     "text": [
      "Avg_Session_Duration\n",
      "avg_time_on_page\n",
      "device_category\n",
      "non_shopper\n",
      "Pages_Session\n",
      "pageviews\n",
      "Session_1plus_minute\n",
      "Session_3plus_pages\n",
      "Session_5plus_pages\n",
      "sessions\n",
      "Unique_Views2_BU\n",
      "user_type\n",
      "Lead _Form_submission\n"
     ]
    }
   ],
   "source": [
    "#### Checking the  Column Names:\n",
    "for col in data2.columns: \n",
    "    print(col)"
   ]
  },
  {
   "cell_type": "markdown",
   "metadata": {},
   "source": [
    "# Checking the outliers"
   ]
  },
  {
   "cell_type": "code",
   "execution_count": null,
   "metadata": {},
   "outputs": [],
   "source": [
    "#Checking the distribution of variable Avg_Session_Duration"
   ]
  },
  {
   "cell_type": "code",
   "execution_count": 11,
   "metadata": {},
   "outputs": [
    {
     "data": {
      "text/plain": [
       "count    49420.000000\n",
       "mean        38.668704\n",
       "std        145.379037\n",
       "min          0.000000\n",
       "25%          0.000000\n",
       "50%          0.000000\n",
       "75%         30.000000\n",
       "max       5144.500000\n",
       "Name: Avg_Session_Duration, dtype: float64"
      ]
     },
     "execution_count": 11,
     "metadata": {},
     "output_type": "execute_result"
    }
   ],
   "source": [
    "data2['Avg_Session_Duration'].describe()\n"
   ]
  },
  {
   "cell_type": "code",
   "execution_count": 12,
   "metadata": {},
   "outputs": [
    {
     "data": {
      "image/png": "[encoded data removed]",
      "text/plain": [
       "<Figure size 432x288 with 1 Axes>"
      ]
     },
     "metadata": {},
     "output_type": "display_data"
    }
   ],
   "source": [
    "data2.boxplot(column='Avg_Session_Duration')\n",
    "plt.show()"
   ]
  },
  {
   "cell_type": "code",
   "execution_count": null,
   "metadata": {},
   "outputs": [],
   "source": [
    "#skewness :"
   ]
  },
  {
   "cell_type": "code",
   "execution_count": 13,
   "metadata": {},
   "outputs": [
    {
     "data": {
      "text/plain": [
       "9.605189474459305"
      ]
     },
     "execution_count": 13,
     "metadata": {},
     "output_type": "execute_result"
    }
   ],
   "source": [
    "data2['Avg_Session_Duration'].skew() "
   ]
  },
  {
   "cell_type": "markdown",
   "metadata": {},
   "source": [
    "# sqrt of Variable Avg_Session_Duration"
   ]
  },
  {
   "cell_type": "code",
   "execution_count": 14,
   "metadata": {},
   "outputs": [],
   "source": [
    "data2['Avg_Session_DurationNew'] = np.sqrt(data2['Avg_Session_Duration'])  \n",
    "\n"
   ]
  },
  {
   "cell_type": "code",
   "execution_count": 15,
   "metadata": {},
   "outputs": [
    {
     "data": {
      "image/png": "[encoded data removed]",
      "text/plain": [
       "<Figure size 432x288 with 1 Axes>"
      ]
     },
     "metadata": {},
     "output_type": "display_data"
    }
   ],
   "source": [
    "data2.boxplot(column='Avg_Session_DurationNew')\n",
    "plt.show()"
   ]
  },
  {
   "cell_type": "code",
   "execution_count": 16,
   "metadata": {},
   "outputs": [
    {
     "data": {
      "text/plain": [
       "count    49420.000000\n",
       "mean         3.239376\n",
       "std          5.308081\n",
       "min          0.000000\n",
       "25%          0.000000\n",
       "50%          0.000000\n",
       "75%          5.477226\n",
       "max         71.725170\n",
       "Name: Avg_Session_DurationNew, dtype: float64"
      ]
     },
     "execution_count": 16,
     "metadata": {},
     "output_type": "execute_result"
    }
   ],
   "source": [
    "data2['Avg_Session_DurationNew'].describe()\n"
   ]
  },
  {
   "cell_type": "code",
   "execution_count": 17,
   "metadata": {},
   "outputs": [
    {
     "data": {
      "text/plain": [
       "3.1785453218463866"
      ]
     },
     "execution_count": 17,
     "metadata": {},
     "output_type": "execute_result"
    }
   ],
   "source": [
    "data2['Avg_Session_DurationNew'].skew() #skewness is reduced"
   ]
  },
  {
   "cell_type": "code",
   "execution_count": null,
   "metadata": {},
   "outputs": [],
   "source": [
    "#Distribution of variable pageviews"
   ]
  },
  {
   "cell_type": "code",
   "execution_count": 18,
   "metadata": {},
   "outputs": [
    {
     "data": {
      "text/plain": [
       "count    49420.000000\n",
       "mean         1.655382\n",
       "std          3.771735\n",
       "min          0.000000\n",
       "25%          1.000000\n",
       "50%          1.000000\n",
       "75%          1.000000\n",
       "max        340.000000\n",
       "Name: pageviews, dtype: float64"
      ]
     },
     "execution_count": 18,
     "metadata": {},
     "output_type": "execute_result"
    }
   ],
   "source": [
    "data2['pageviews'].describe()\n"
   ]
  },
  {
   "cell_type": "code",
   "execution_count": 19,
   "metadata": {},
   "outputs": [
    {
     "data": {
      "image/png": "[encoded data removed]",
      "text/plain": [
       "<Figure size 432x288 with 1 Axes>"
      ]
     },
     "metadata": {},
     "output_type": "display_data"
    }
   ],
   "source": [
    "data2.boxplot(column='pageviews')\n",
    "plt.show()"
   ]
  },
  {
   "cell_type": "code",
   "execution_count": null,
   "metadata": {},
   "outputs": [],
   "source": [
    "#Skewness"
   ]
  },
  {
   "cell_type": "code",
   "execution_count": 20,
   "metadata": {},
   "outputs": [
    {
     "data": {
      "text/plain": [
       "32.963294994042954"
      ]
     },
     "execution_count": 20,
     "metadata": {},
     "output_type": "execute_result"
    }
   ],
   "source": [
    "data2['pageviews'].skew() "
   ]
  },
  {
   "cell_type": "markdown",
   "metadata": {},
   "source": [
    "# sqrt of Variable pageviews"
   ]
  },
  {
   "cell_type": "code",
   "execution_count": 21,
   "metadata": {},
   "outputs": [],
   "source": [
    "data2['pageviewsNew'] = np.sqrt(data2['pageviews'])  \n",
    "\n"
   ]
  },
  {
   "cell_type": "code",
   "execution_count": 22,
   "metadata": {},
   "outputs": [
    {
     "data": {
      "text/plain": [
       "6.993376523752228"
      ]
     },
     "execution_count": 22,
     "metadata": {},
     "output_type": "execute_result"
    }
   ],
   "source": [
    "data2['pageviewsNew'].skew() "
   ]
  },
  {
   "cell_type": "code",
   "execution_count": 23,
   "metadata": {},
   "outputs": [
    {
     "data": {
      "image/png": "[encoded data removed]",
      "text/plain": [
       "<Figure size 432x288 with 1 Axes>"
      ]
     },
     "metadata": {},
     "output_type": "display_data"
    }
   ],
   "source": [
    "data2.boxplot(column='pageviewsNew')\n",
    "plt.show()"
   ]
  },
  {
   "cell_type": "code",
   "execution_count": 24,
   "metadata": {},
   "outputs": [
    {
     "data": {
      "text/plain": [
       "count    49420.000000\n",
       "mean         1.171411\n",
       "std          0.532150\n",
       "min          0.000000\n",
       "25%          1.000000\n",
       "50%          1.000000\n",
       "75%          1.000000\n",
       "max         18.439089\n",
       "Name: pageviewsNew, dtype: float64"
      ]
     },
     "execution_count": 24,
     "metadata": {},
     "output_type": "execute_result"
    }
   ],
   "source": [
    "data2['pageviewsNew'].describe()\n"
   ]
  },
  {
   "cell_type": "code",
   "execution_count": null,
   "metadata": {},
   "outputs": [],
   "source": [
    "#Distribution of Variable avg_time_on_page"
   ]
  },
  {
   "cell_type": "code",
   "execution_count": 25,
   "metadata": {},
   "outputs": [
    {
     "data": {
      "text/plain": [
       "count    49420.000000\n",
       "mean        19.474152\n",
       "std        100.682034\n",
       "min          0.000000\n",
       "25%          0.000000\n",
       "50%          0.000000\n",
       "75%          0.000000\n",
       "max       3080.000000\n",
       "Name: avg_time_on_page, dtype: float64"
      ]
     },
     "execution_count": 25,
     "metadata": {},
     "output_type": "execute_result"
    }
   ],
   "source": [
    "data2['avg_time_on_page'].describe()\n"
   ]
  },
  {
   "cell_type": "code",
   "execution_count": 26,
   "metadata": {},
   "outputs": [
    {
     "data": {
      "text/plain": [
       "10.451198366710088"
      ]
     },
     "execution_count": 26,
     "metadata": {},
     "output_type": "execute_result"
    }
   ],
   "source": [
    "\n",
    "data2['avg_time_on_page'].skew() "
   ]
  },
  {
   "cell_type": "code",
   "execution_count": 27,
   "metadata": {},
   "outputs": [],
   "source": [
    "data2['avg_time_on_pageNew'] = np.sqrt(data2['avg_time_on_page'])  \n",
    "\n"
   ]
  },
  {
   "cell_type": "code",
   "execution_count": 28,
   "metadata": {},
   "outputs": [
    {
     "data": {
      "text/plain": [
       "count    49420.000000\n",
       "mean         1.431410\n",
       "std          4.174395\n",
       "min          0.000000\n",
       "25%          0.000000\n",
       "50%          0.000000\n",
       "75%          0.000000\n",
       "max         55.497748\n",
       "Name: avg_time_on_pageNew, dtype: float64"
      ]
     },
     "execution_count": 28,
     "metadata": {},
     "output_type": "execute_result"
    }
   ],
   "source": [
    "data2['avg_time_on_pageNew'].describe()\n"
   ]
  },
  {
   "cell_type": "code",
   "execution_count": 29,
   "metadata": {},
   "outputs": [
    {
     "data": {
      "text/plain": [
       "count    49420.000000\n",
       "mean         1.221307\n",
       "std          2.318114\n",
       "min          1.000000\n",
       "25%          1.000000\n",
       "50%          1.000000\n",
       "75%          1.000000\n",
       "max        340.000000\n",
       "Name: sessions, dtype: float64"
      ]
     },
     "execution_count": 29,
     "metadata": {},
     "output_type": "execute_result"
    }
   ],
   "source": [
    "data2['sessions'].describe()\n",
    "\n",
    "\n"
   ]
  },
  {
   "cell_type": "code",
   "execution_count": 30,
   "metadata": {},
   "outputs": [
    {
     "data": {
      "image/png": "[encoded data removed]",
      "text/plain": [
       "<Figure size 432x288 with 1 Axes>"
      ]
     },
     "metadata": {},
     "output_type": "display_data"
    }
   ],
   "source": [
    "data2.boxplot(column='sessions')\n",
    "plt.show()"
   ]
  },
  {
   "cell_type": "markdown",
   "metadata": {},
   "source": [
    "# #Applying log10 transformation \n"
   ]
  },
  {
   "cell_type": "code",
   "execution_count": 31,
   "metadata": {},
   "outputs": [],
   "source": [
    "data2['sessionsNew'] = np.log10(data2['sessions'])  \n"
   ]
  },
  {
   "cell_type": "code",
   "execution_count": 32,
   "metadata": {},
   "outputs": [
    {
     "data": {
      "image/png": "[encoded data removed]",
      "text/plain": [
       "<Figure size 432x288 with 1 Axes>"
      ]
     },
     "metadata": {},
     "output_type": "display_data"
    }
   ],
   "source": [
    "data2.boxplot(column='sessionsNew')\n",
    "plt.show()"
   ]
  },
  {
   "cell_type": "code",
   "execution_count": 33,
   "metadata": {},
   "outputs": [
    {
     "data": {
      "text/plain": [
       "count    49420.000000\n",
       "mean         0.032183\n",
       "std          0.144392\n",
       "min          0.000000\n",
       "25%          0.000000\n",
       "50%          0.000000\n",
       "75%          0.000000\n",
       "max          2.531479\n",
       "Name: sessionsNew, dtype: float64"
      ]
     },
     "execution_count": 33,
     "metadata": {},
     "output_type": "execute_result"
    }
   ],
   "source": [
    "data2['sessionsNew'].describe()\n",
    "\n",
    "\n"
   ]
  },
  {
   "cell_type": "code",
   "execution_count": 34,
   "metadata": {},
   "outputs": [
    {
     "name": "stdout",
     "output_type": "stream",
     "text": [
      "Avg_Session_Duration\n",
      "avg_time_on_page\n",
      "device_category\n",
      "non_shopper\n",
      "Pages_Session\n",
      "pageviews\n",
      "Session_1plus_minute\n",
      "Session_3plus_pages\n",
      "Session_5plus_pages\n",
      "sessions\n",
      "Unique_Views2_BU\n",
      "user_type\n",
      "Lead _Form_submission\n",
      "Avg_Session_DurationNew\n",
      "pageviewsNew\n",
      "avg_time_on_pageNew\n",
      "sessionsNew\n"
     ]
    }
   ],
   "source": [
    "#### Checking the  Column Names:\n",
    "for col in data2.columns: \n",
    "    print(col)"
   ]
  },
  {
   "cell_type": "code",
   "execution_count": null,
   "metadata": {},
   "outputs": [],
   "source": [
    "#Choosing the final variables:"
   ]
  },
  {
   "cell_type": "code",
   "execution_count": 36,
   "metadata": {},
   "outputs": [],
   "source": [
    "cols=['device_category', 'non_shopper', 'Pages_Session', 'Session_1plus_minute',\n",
    "     'Session_3plus_pages', 'Session_5plus_pages', 'Unique_Views2_BU', 'user_type', 'Lead _Form_submission',\n",
    "      'Avg_Session_DurationNew',\n",
    "     'pageviewsNew', 'avg_time_on_pageNew', 'sessionsNew']\n",
    "dataset_final = data2[cols]\n",
    "\n",
    "    "
   ]
  },
  {
   "cell_type": "code",
   "execution_count": 37,
   "metadata": {},
   "outputs": [],
   "source": [
    "#Creating Dummy variables \n",
    "\n",
    "dataset_final = pd.get_dummies(dataset_final, columns =['device_category','non_shopper' ,'user_type'\n",
    "                                      ])"
   ]
  },
  {
   "cell_type": "code",
   "execution_count": 38,
   "metadata": {},
   "outputs": [
    {
     "name": "stdout",
     "output_type": "stream",
     "text": [
      "Pages_Session\n",
      "Session_1plus_minute\n",
      "Session_3plus_pages\n",
      "Session_5plus_pages\n",
      "Unique_Views2_BU\n",
      "Lead _Form_submission\n",
      "Avg_Session_DurationNew\n",
      "pageviewsNew\n",
      "avg_time_on_pageNew\n",
      "sessionsNew\n",
      "device_category_desktop\n",
      "device_category_mobile\n",
      "device_category_tablet\n",
      "non_shopper_No\n",
      "non_shopper_Yes\n",
      "user_type_New Visitor\n",
      "user_type_Returning Visitor\n"
     ]
    }
   ],
   "source": [
    "#### Checking the  Column Names:\n",
    "for col in dataset_final.columns: \n",
    "    print(col)"
   ]
  },
  {
   "cell_type": "code",
   "execution_count": 39,
   "metadata": {},
   "outputs": [],
   "source": [
    "dataset_final=dataset_final.drop(['device_category_tablet', 'non_shopper_No', 'user_type_New Visitor'], axis=1)"
   ]
  },
  {
   "cell_type": "code",
   "execution_count": 40,
   "metadata": {},
   "outputs": [
    {
     "name": "stdout",
     "output_type": "stream",
     "text": [
      "Pages_Session\n",
      "Session_1plus_minute\n",
      "Session_3plus_pages\n",
      "Session_5plus_pages\n",
      "Unique_Views2_BU\n",
      "Lead _Form_submission\n",
      "Avg_Session_DurationNew\n",
      "pageviewsNew\n",
      "avg_time_on_pageNew\n",
      "sessionsNew\n",
      "device_category_desktop\n",
      "device_category_mobile\n",
      "non_shopper_Yes\n",
      "user_type_Returning Visitor\n"
     ]
    }
   ],
   "source": [
    "#### Checking the  Column Names:\n",
    "for col in dataset_final.columns: \n",
    "    print(col)"
   ]
  },
  {
   "cell_type": "code",
   "execution_count": 41,
   "metadata": {},
   "outputs": [
    {
     "data": {
      "text/plain": [
       "(49420, 14)"
      ]
     },
     "execution_count": 41,
     "metadata": {},
     "output_type": "execute_result"
    }
   ],
   "source": [
    "dataset_final.shape"
   ]
  },
  {
   "cell_type": "markdown",
   "metadata": {},
   "source": [
    "# Using Random Forest for Variable selection: Method RFECV\n"
   ]
  },
  {
   "cell_type": "code",
   "execution_count": 44,
   "metadata": {},
   "outputs": [],
   "source": [
    "\n",
    "from sklearn.ensemble import RandomForestClassifier\n",
    "from sklearn.model_selection import StratifiedKFold\n",
    "from sklearn.feature_selection import RFECV\n",
    "\n",
    "X1 = dataset_final.drop('Lead _Form_submission', axis=1)\n",
    "target = dataset_final['Lead _Form_submission']\n",
    "\n"
   ]
  },
  {
   "cell_type": "code",
   "execution_count": 45,
   "metadata": {},
   "outputs": [
    {
     "data": {
      "text/plain": [
       "RFECV(cv=StratifiedKFold(n_splits=10, random_state=None, shuffle=False),\n",
       "      estimator=RandomForestClassifier(bootstrap=True, ccp_alpha=0.0,\n",
       "                                       class_weight=None, criterion='gini',\n",
       "                                       max_depth=None, max_features='auto',\n",
       "                                       max_leaf_nodes=None, max_samples=None,\n",
       "                                       min_impurity_decrease=0.0,\n",
       "                                       min_impurity_split=None,\n",
       "                                       min_samples_leaf=1, min_samples_split=2,\n",
       "                                       min_weight_fraction_leaf=0.0,\n",
       "                                       n_estimators=100, n_jobs=None,\n",
       "                                       oob_score=False, random_state=101,\n",
       "                                       verbose=0, warm_start=False),\n",
       "      min_features_to_select=1, n_jobs=None, scoring='accuracy', step=1,\n",
       "      verbose=0)"
      ]
     },
     "execution_count": 45,
     "metadata": {},
     "output_type": "execute_result"
    }
   ],
   "source": [
    "rfc = RandomForestClassifier(random_state=101)\n",
    "rfecv = RFECV(estimator=rfc, step=1, cv=StratifiedKFold(10), scoring='accuracy')\n",
    "rfecv.fit(X1, target)"
   ]
  },
  {
   "cell_type": "code",
   "execution_count": 46,
   "metadata": {},
   "outputs": [
    {
     "name": "stdout",
     "output_type": "stream",
     "text": [
      "Optimal number of features: 10\n"
     ]
    }
   ],
   "source": [
    "print('Optimal number of features: {}'.format(rfecv.n_features_))"
   ]
  },
  {
   "cell_type": "code",
   "execution_count": 47,
   "metadata": {},
   "outputs": [
    {
     "name": "stdout",
     "output_type": "stream",
     "text": [
      "[ 2  3 10]\n"
     ]
    }
   ],
   "source": [
    "# print out which features are considered to be least important\n",
    "print(np.where(rfecv.support_ == False)[0])\n",
    "\n",
    "X1.drop(X1.columns[np.where(rfecv.support_ == False)[0]], axis=1, inplace=True)"
   ]
  },
  {
   "cell_type": "code",
   "execution_count": 48,
   "metadata": {},
   "outputs": [
    {
     "data": {
      "image/png": "[encoded data removed]",
      "text/plain": [
       "<Figure size 1152x1008 with 1 Axes>"
      ]
     },
     "metadata": {},
     "output_type": "display_data"
    }
   ],
   "source": [
    "dset = pd.DataFrame()\n",
    "dset['attr'] = X1.columns\n",
    "dset['importance'] = rfecv.estimator_.feature_importances_\n",
    "\n",
    "dset = dset.sort_values(by='importance', ascending=False)\n",
    "\n",
    "\n",
    "plt.figure(figsize=(16, 14))\n",
    "plt.barh(y=dset['attr'], width=dset['importance'], color='#1976D2')\n",
    "plt.title('RFECV - Feature Importances', fontsize=20, fontweight='bold', pad=20)\n",
    "plt.xlabel('Importance', fontsize=14, labelpad=20)\n",
    "plt.show()"
   ]
  },
  {
   "cell_type": "code",
   "execution_count": null,
   "metadata": {},
   "outputs": [],
   "source": []
  },
  {
   "cell_type": "code",
   "execution_count": null,
   "metadata": {},
   "outputs": [],
   "source": []
  },
  {
   "cell_type": "code",
   "execution_count": 42,
   "metadata": {},
   "outputs": [],
   "source": [
    "X = dataset_final.drop(['Lead _Form_submission'], axis = 1)\n",
    "Y= dataset_final['Lead _Form_submission']"
   ]
  },
  {
   "cell_type": "markdown",
   "metadata": {},
   "source": [
    "# #Dividing the dataset into training and testing\n"
   ]
  },
  {
   "cell_type": "code",
   "execution_count": 43,
   "metadata": {},
   "outputs": [],
   "source": [
    "#Dividing the dataset into training and testing\n",
    "\n",
    "X_train, X_test, y_train, y_test = train_test_split(X, Y, test_size=0.30, random_state=1) # 80% training and 20% test\n"
   ]
  },
  {
   "cell_type": "code",
   "execution_count": 44,
   "metadata": {},
   "outputs": [],
   "source": [
    "train = pd.concat([X_train,y_train] , axis = 1)\n",
    "test = pd.concat([X_test, y_test], axis = 1)"
   ]
  },
  {
   "cell_type": "code",
   "execution_count": 45,
   "metadata": {},
   "outputs": [
    {
     "data": {
      "text/plain": [
       "(34594, 14)"
      ]
     },
     "execution_count": 45,
     "metadata": {},
     "output_type": "execute_result"
    }
   ],
   "source": [
    "train.shape\n"
   ]
  },
  {
   "cell_type": "code",
   "execution_count": 46,
   "metadata": {},
   "outputs": [
    {
     "data": {
      "text/plain": [
       "(14826, 14)"
      ]
     },
     "execution_count": 46,
     "metadata": {},
     "output_type": "execute_result"
    }
   ],
   "source": [
    "test.shape"
   ]
  },
  {
   "cell_type": "markdown",
   "metadata": {},
   "source": [
    "# Applying Linear Regression Model:"
   ]
  },
  {
   "cell_type": "code",
   "execution_count": 47,
   "metadata": {},
   "outputs": [
    {
     "name": "stderr",
     "output_type": "stream",
     "text": [
      "C:\\Users\\apaul\\AppData\\Local\\Continuum\\anaconda3\\lib\\site-packages\\sklearn\\linear_model\\_logistic.py:940: ConvergenceWarning: lbfgs failed to converge (status=1):\n",
      "STOP: TOTAL NO. of ITERATIONS REACHED LIMIT.\n",
      "\n",
      "Increase the number of iterations (max_iter) or scale the data as shown in:\n",
      "    https://scikit-learn.org/stable/modules/preprocessing.html\n",
      "Please also refer to the documentation for alternative solver options:\n",
      "    https://scikit-learn.org/stable/modules/linear_model.html#logistic-regression\n",
      "  extra_warning_msg=_LOGISTIC_SOLVER_CONVERGENCE_MSG)\n"
     ]
    }
   ],
   "source": [
    "from sklearn.linear_model import LogisticRegression\n",
    "\n",
    "\n",
    "from sklearn.linear_model import LogisticRegression\n",
    "lr = LogisticRegression()\n",
    "result=lr.fit(X_train,y_train)"
   ]
  },
  {
   "cell_type": "code",
   "execution_count": 48,
   "metadata": {},
   "outputs": [
    {
     "name": "stdout",
     "output_type": "stream",
     "text": [
      "[[ 1.41591122  3.01295595 -1.29146927 -2.96800093  0.3545027  -0.08037469\n",
      "  -1.90449821  0.16121088 -2.48738499  0.31109004 -0.09901633 -1.96785242\n",
      "  -0.12019843]]\n"
     ]
    }
   ],
   "source": [
    "print(result.coef_)"
   ]
  },
  {
   "cell_type": "code",
   "execution_count": 49,
   "metadata": {},
   "outputs": [
    {
     "name": "stdout",
     "output_type": "stream",
     "text": [
      "[0 0 0 ... 0 0 0]\n"
     ]
    }
   ],
   "source": [
    "preds = lr.predict(X_train)\n",
    "print(preds)"
   ]
  },
  {
   "cell_type": "code",
   "execution_count": 50,
   "metadata": {},
   "outputs": [
    {
     "name": "stdout",
     "output_type": "stream",
     "text": [
      "[[32994   344]\n",
      " [  961   295]]\n"
     ]
    }
   ],
   "source": [
    "#Confusion matrix:\n",
    "\n",
    "from sklearn.metrics import confusion_matrix\n",
    "print(confusion_matrix(y_train, preds))"
   ]
  },
  {
   "cell_type": "code",
   "execution_count": 51,
   "metadata": {},
   "outputs": [
    {
     "name": "stdout",
     "output_type": "stream",
     "text": [
      "              precision    recall  f1-score   support\n",
      "\n",
      "           0       0.97      0.99      0.98     33338\n",
      "           1       0.46      0.23      0.31      1256\n",
      "\n",
      "    accuracy                           0.96     34594\n",
      "   macro avg       0.72      0.61      0.65     34594\n",
      "weighted avg       0.95      0.96      0.96     34594\n",
      "\n"
     ]
    }
   ],
   "source": [
    "from sklearn.metrics import classification_report\n",
    "print(classification_report(y_train,preds))\n"
   ]
  },
  {
   "cell_type": "code",
   "execution_count": 52,
   "metadata": {},
   "outputs": [],
   "source": [
    "pred_prob_train = lr.predict_proba(X_train)"
   ]
  },
  {
   "cell_type": "code",
   "execution_count": 53,
   "metadata": {},
   "outputs": [],
   "source": [
    "pred_prob_train = pd.DataFrame(pred_prob_train)"
   ]
  },
  {
   "cell_type": "code",
   "execution_count": 54,
   "metadata": {},
   "outputs": [],
   "source": [
    "#Rename the column \"1\" as Pred_Prob\n",
    "\n",
    "pred_prob_train.rename(columns = {1:'Pred_Prob'}, inplace = True) "
   ]
  },
  {
   "cell_type": "code",
   "execution_count": 55,
   "metadata": {},
   "outputs": [],
   "source": [
    "dataframe_train=pd.DataFrame(preds, columns=['Pred_Submission']) \n"
   ]
  },
  {
   "cell_type": "code",
   "execution_count": 56,
   "metadata": {},
   "outputs": [],
   "source": [
    "train = train.reset_index()"
   ]
  },
  {
   "cell_type": "code",
   "execution_count": 57,
   "metadata": {},
   "outputs": [
    {
     "data": {
      "text/plain": [
       "(34594, 18)"
      ]
     },
     "execution_count": 57,
     "metadata": {},
     "output_type": "execute_result"
    }
   ],
   "source": [
    "#join the final result it train set\n",
    "\n",
    "\n",
    "results_train = pd.concat([train, dataframe_train, pred_prob_train], axis = 1)\n",
    "results_train.shape"
   ]
  },
  {
   "cell_type": "code",
   "execution_count": null,
   "metadata": {},
   "outputs": [],
   "source": [
    "#results_train.to_csv('CaseStudy25Dec.csv', encoding = \"ISO-8859-1\")"
   ]
  },
  {
   "cell_type": "code",
   "execution_count": 58,
   "metadata": {},
   "outputs": [
    {
     "data": {
      "text/plain": [
       "array([[ 1.41591122,  3.01295595, -1.29146927, -2.96800093,  0.3545027 ,\n",
       "        -0.08037469, -1.90449821,  0.16121088, -2.48738499,  0.31109004,\n",
       "        -0.09901633, -1.96785242, -0.12019843]])"
      ]
     },
     "execution_count": 58,
     "metadata": {},
     "output_type": "execute_result"
    }
   ],
   "source": [
    "#Coefficients for logistic regression:\n",
    "\n",
    "coeff=result.coef_\n",
    "coeff"
   ]
  },
  {
   "cell_type": "code",
   "execution_count": 59,
   "metadata": {},
   "outputs": [],
   "source": [
    "coeff = pd.DataFrame(coeff)"
   ]
  },
  {
   "cell_type": "code",
   "execution_count": 60,
   "metadata": {},
   "outputs": [],
   "source": [
    "coeff=coeff.transpose()\n"
   ]
  },
  {
   "cell_type": "code",
   "execution_count": 61,
   "metadata": {},
   "outputs": [
    {
     "name": "stdout",
     "output_type": "stream",
     "text": [
      "Pages_Session\n",
      "Session_1plus_minute\n",
      "Session_3plus_pages\n",
      "Session_5plus_pages\n",
      "Unique_Views2_BU\n",
      "Avg_Session_DurationNew\n",
      "pageviewsNew\n",
      "avg_time_on_pageNew\n",
      "sessionsNew\n",
      "device_category_desktop\n",
      "device_category_mobile\n",
      "non_shopper_Yes\n",
      "user_type_Returning Visitor\n"
     ]
    }
   ],
   "source": [
    "for col in X_train.columns: \n",
    "    print(col) \n"
   ]
  },
  {
   "cell_type": "code",
   "execution_count": 62,
   "metadata": {},
   "outputs": [],
   "source": [
    "colnames=X_train.columns"
   ]
  },
  {
   "cell_type": "code",
   "execution_count": 63,
   "metadata": {},
   "outputs": [
    {
     "data": {
      "text/html": [
       "<div>\n",
       "<style scoped>\n",
       "    .dataframe tbody tr th:only-of-type {\n",
       "        vertical-align: middle;\n",
       "    }\n",
       "\n",
       "    .dataframe tbody tr th {\n",
       "        vertical-align: top;\n",
       "    }\n",
       "\n",
       "    .dataframe thead th {\n",
       "        text-align: right;\n",
       "    }\n",
       "</style>\n",
       "<table border=\"1\" class=\"dataframe\">\n",
       "  <thead>\n",
       "    <tr style=\"text-align: right;\">\n",
       "      <th></th>\n",
       "      <th>0</th>\n",
       "    </tr>\n",
       "  </thead>\n",
       "  <tbody>\n",
       "    <tr>\n",
       "      <th>0</th>\n",
       "      <td>Pages_Session</td>\n",
       "    </tr>\n",
       "    <tr>\n",
       "      <th>1</th>\n",
       "      <td>Session_1plus_minute</td>\n",
       "    </tr>\n",
       "    <tr>\n",
       "      <th>2</th>\n",
       "      <td>Session_3plus_pages</td>\n",
       "    </tr>\n",
       "    <tr>\n",
       "      <th>3</th>\n",
       "      <td>Session_5plus_pages</td>\n",
       "    </tr>\n",
       "    <tr>\n",
       "      <th>4</th>\n",
       "      <td>Unique_Views2_BU</td>\n",
       "    </tr>\n",
       "    <tr>\n",
       "      <th>5</th>\n",
       "      <td>Avg_Session_DurationNew</td>\n",
       "    </tr>\n",
       "    <tr>\n",
       "      <th>6</th>\n",
       "      <td>pageviewsNew</td>\n",
       "    </tr>\n",
       "    <tr>\n",
       "      <th>7</th>\n",
       "      <td>avg_time_on_pageNew</td>\n",
       "    </tr>\n",
       "    <tr>\n",
       "      <th>8</th>\n",
       "      <td>sessionsNew</td>\n",
       "    </tr>\n",
       "    <tr>\n",
       "      <th>9</th>\n",
       "      <td>device_category_desktop</td>\n",
       "    </tr>\n",
       "    <tr>\n",
       "      <th>10</th>\n",
       "      <td>device_category_mobile</td>\n",
       "    </tr>\n",
       "    <tr>\n",
       "      <th>11</th>\n",
       "      <td>non_shopper_Yes</td>\n",
       "    </tr>\n",
       "    <tr>\n",
       "      <th>12</th>\n",
       "      <td>user_type_Returning Visitor</td>\n",
       "    </tr>\n",
       "  </tbody>\n",
       "</table>\n",
       "</div>"
      ],
      "text/plain": [
       "                              0\n",
       "0                 Pages_Session\n",
       "1          Session_1plus_minute\n",
       "2           Session_3plus_pages\n",
       "3           Session_5plus_pages\n",
       "4              Unique_Views2_BU\n",
       "5       Avg_Session_DurationNew\n",
       "6                  pageviewsNew\n",
       "7           avg_time_on_pageNew\n",
       "8                   sessionsNew\n",
       "9       device_category_desktop\n",
       "10       device_category_mobile\n",
       "11              non_shopper_Yes\n",
       "12  user_type_Returning Visitor"
      ]
     },
     "execution_count": 63,
     "metadata": {},
     "output_type": "execute_result"
    }
   ],
   "source": [
    "#Column names of the training set \n",
    "colnames = pd.DataFrame(colnames)\n",
    "colnames "
   ]
  },
  {
   "cell_type": "code",
   "execution_count": 64,
   "metadata": {},
   "outputs": [
    {
     "data": {
      "text/html": [
       "<div>\n",
       "<style scoped>\n",
       "    .dataframe tbody tr th:only-of-type {\n",
       "        vertical-align: middle;\n",
       "    }\n",
       "\n",
       "    .dataframe tbody tr th {\n",
       "        vertical-align: top;\n",
       "    }\n",
       "\n",
       "    .dataframe thead th {\n",
       "        text-align: right;\n",
       "    }\n",
       "</style>\n",
       "<table border=\"1\" class=\"dataframe\">\n",
       "  <thead>\n",
       "    <tr style=\"text-align: right;\">\n",
       "      <th></th>\n",
       "      <th>0</th>\n",
       "      <th>0</th>\n",
       "    </tr>\n",
       "  </thead>\n",
       "  <tbody>\n",
       "    <tr>\n",
       "      <th>0</th>\n",
       "      <td>1.415911</td>\n",
       "      <td>Pages_Session</td>\n",
       "    </tr>\n",
       "    <tr>\n",
       "      <th>1</th>\n",
       "      <td>3.012956</td>\n",
       "      <td>Session_1plus_minute</td>\n",
       "    </tr>\n",
       "    <tr>\n",
       "      <th>2</th>\n",
       "      <td>-1.291469</td>\n",
       "      <td>Session_3plus_pages</td>\n",
       "    </tr>\n",
       "    <tr>\n",
       "      <th>3</th>\n",
       "      <td>-2.968001</td>\n",
       "      <td>Session_5plus_pages</td>\n",
       "    </tr>\n",
       "    <tr>\n",
       "      <th>4</th>\n",
       "      <td>0.354503</td>\n",
       "      <td>Unique_Views2_BU</td>\n",
       "    </tr>\n",
       "    <tr>\n",
       "      <th>5</th>\n",
       "      <td>-0.080375</td>\n",
       "      <td>Avg_Session_DurationNew</td>\n",
       "    </tr>\n",
       "    <tr>\n",
       "      <th>6</th>\n",
       "      <td>-1.904498</td>\n",
       "      <td>pageviewsNew</td>\n",
       "    </tr>\n",
       "    <tr>\n",
       "      <th>7</th>\n",
       "      <td>0.161211</td>\n",
       "      <td>avg_time_on_pageNew</td>\n",
       "    </tr>\n",
       "    <tr>\n",
       "      <th>8</th>\n",
       "      <td>-2.487385</td>\n",
       "      <td>sessionsNew</td>\n",
       "    </tr>\n",
       "    <tr>\n",
       "      <th>9</th>\n",
       "      <td>0.311090</td>\n",
       "      <td>device_category_desktop</td>\n",
       "    </tr>\n",
       "    <tr>\n",
       "      <th>10</th>\n",
       "      <td>-0.099016</td>\n",
       "      <td>device_category_mobile</td>\n",
       "    </tr>\n",
       "    <tr>\n",
       "      <th>11</th>\n",
       "      <td>-1.967852</td>\n",
       "      <td>non_shopper_Yes</td>\n",
       "    </tr>\n",
       "    <tr>\n",
       "      <th>12</th>\n",
       "      <td>-0.120198</td>\n",
       "      <td>user_type_Returning Visitor</td>\n",
       "    </tr>\n",
       "  </tbody>\n",
       "</table>\n",
       "</div>"
      ],
      "text/plain": [
       "           0                            0\n",
       "0   1.415911                Pages_Session\n",
       "1   3.012956         Session_1plus_minute\n",
       "2  -1.291469          Session_3plus_pages\n",
       "3  -2.968001          Session_5plus_pages\n",
       "4   0.354503             Unique_Views2_BU\n",
       "5  -0.080375      Avg_Session_DurationNew\n",
       "6  -1.904498                 pageviewsNew\n",
       "7   0.161211          avg_time_on_pageNew\n",
       "8  -2.487385                  sessionsNew\n",
       "9   0.311090      device_category_desktop\n",
       "10 -0.099016       device_category_mobile\n",
       "11 -1.967852              non_shopper_Yes\n",
       "12 -0.120198  user_type_Returning Visitor"
      ]
     },
     "execution_count": 64,
     "metadata": {},
     "output_type": "execute_result"
    }
   ],
   "source": [
    "\n",
    "#merging the column names and their respective coeff\n",
    "\n",
    "coeff_columns=pd.concat([coeff,colnames ], axis = 1)\n",
    "coeff_columns"
   ]
  },
  {
   "cell_type": "code",
   "execution_count": 65,
   "metadata": {},
   "outputs": [],
   "source": [
    "#Intercept"
   ]
  },
  {
   "cell_type": "code",
   "execution_count": 66,
   "metadata": {},
   "outputs": [
    {
     "name": "stdout",
     "output_type": "stream",
     "text": [
      "[-4.61344556]\n"
     ]
    }
   ],
   "source": [
    "print(result.intercept_)"
   ]
  },
  {
   "cell_type": "code",
   "execution_count": 67,
   "metadata": {},
   "outputs": [],
   "source": [
    "#Test result for the logistic regrtession on the selected variables:"
   ]
  },
  {
   "cell_type": "code",
   "execution_count": 68,
   "metadata": {},
   "outputs": [
    {
     "name": "stdout",
     "output_type": "stream",
     "text": [
      "[0 0 0 ... 0 0 0]\n"
     ]
    }
   ],
   "source": [
    "predstest = lr.predict(X_test)\n",
    "print(predstest)"
   ]
  },
  {
   "cell_type": "code",
   "execution_count": 69,
   "metadata": {},
   "outputs": [
    {
     "name": "stdout",
     "output_type": "stream",
     "text": [
      "              precision    recall  f1-score   support\n",
      "\n",
      "           0       0.97      0.99      0.98     14277\n",
      "           1       0.44      0.21      0.29       549\n",
      "\n",
      "    accuracy                           0.96     14826\n",
      "   macro avg       0.70      0.60      0.63     14826\n",
      "weighted avg       0.95      0.96      0.95     14826\n",
      "\n"
     ]
    }
   ],
   "source": [
    "from sklearn.metrics import classification_report\n",
    "print(classification_report(y_test,predstest))\n"
   ]
  },
  {
   "cell_type": "code",
   "execution_count": 70,
   "metadata": {},
   "outputs": [
    {
     "name": "stdout",
     "output_type": "stream",
     "text": [
      "[[14129   148]\n",
      " [  433   116]]\n"
     ]
    }
   ],
   "source": [
    "from sklearn.metrics import confusion_matrix\n",
    "print(confusion_matrix(y_test,predstest))"
   ]
  },
  {
   "cell_type": "code",
   "execution_count": 71,
   "metadata": {},
   "outputs": [],
   "source": [
    "pred_probTest = lr.predict_proba(X_test)"
   ]
  },
  {
   "cell_type": "code",
   "execution_count": 74,
   "metadata": {},
   "outputs": [
    {
     "data": {
      "text/html": [
       "<div>\n",
       "<style scoped>\n",
       "    .dataframe tbody tr th:only-of-type {\n",
       "        vertical-align: middle;\n",
       "    }\n",
       "\n",
       "    .dataframe tbody tr th {\n",
       "        vertical-align: top;\n",
       "    }\n",
       "\n",
       "    .dataframe thead th {\n",
       "        text-align: right;\n",
       "    }\n",
       "</style>\n",
       "<table border=\"1\" class=\"dataframe\">\n",
       "  <thead>\n",
       "    <tr style=\"text-align: right;\">\n",
       "      <th></th>\n",
       "      <th>0</th>\n",
       "      <th>Pred_Prob</th>\n",
       "    </tr>\n",
       "  </thead>\n",
       "  <tbody>\n",
       "    <tr>\n",
       "      <th>0</th>\n",
       "      <td>0.991764</td>\n",
       "      <td>0.008236</td>\n",
       "    </tr>\n",
       "    <tr>\n",
       "      <th>1</th>\n",
       "      <td>0.996490</td>\n",
       "      <td>0.003510</td>\n",
       "    </tr>\n",
       "    <tr>\n",
       "      <th>2</th>\n",
       "      <td>0.995329</td>\n",
       "      <td>0.004671</td>\n",
       "    </tr>\n",
       "    <tr>\n",
       "      <th>3</th>\n",
       "      <td>0.993331</td>\n",
       "      <td>0.006669</td>\n",
       "    </tr>\n",
       "    <tr>\n",
       "      <th>4</th>\n",
       "      <td>0.994681</td>\n",
       "      <td>0.005319</td>\n",
       "    </tr>\n",
       "    <tr>\n",
       "      <th>...</th>\n",
       "      <td>...</td>\n",
       "      <td>...</td>\n",
       "    </tr>\n",
       "    <tr>\n",
       "      <th>14821</th>\n",
       "      <td>0.996153</td>\n",
       "      <td>0.003847</td>\n",
       "    </tr>\n",
       "    <tr>\n",
       "      <th>14822</th>\n",
       "      <td>0.991764</td>\n",
       "      <td>0.008236</td>\n",
       "    </tr>\n",
       "    <tr>\n",
       "      <th>14823</th>\n",
       "      <td>0.991764</td>\n",
       "      <td>0.008236</td>\n",
       "    </tr>\n",
       "    <tr>\n",
       "      <th>14824</th>\n",
       "      <td>0.994519</td>\n",
       "      <td>0.005481</td>\n",
       "    </tr>\n",
       "    <tr>\n",
       "      <th>14825</th>\n",
       "      <td>0.994519</td>\n",
       "      <td>0.005481</td>\n",
       "    </tr>\n",
       "  </tbody>\n",
       "</table>\n",
       "<p>14826 rows × 2 columns</p>\n",
       "</div>"
      ],
      "text/plain": [
       "              0  Pred_Prob\n",
       "0      0.991764   0.008236\n",
       "1      0.996490   0.003510\n",
       "2      0.995329   0.004671\n",
       "3      0.993331   0.006669\n",
       "4      0.994681   0.005319\n",
       "...         ...        ...\n",
       "14821  0.996153   0.003847\n",
       "14822  0.991764   0.008236\n",
       "14823  0.991764   0.008236\n",
       "14824  0.994519   0.005481\n",
       "14825  0.994519   0.005481\n",
       "\n",
       "[14826 rows x 2 columns]"
      ]
     },
     "execution_count": 74,
     "metadata": {},
     "output_type": "execute_result"
    }
   ],
   "source": [
    "pred_probTest.rename(columns = {1:'Pred_Prob'}, inplace = True) \n",
    "pred_probTest"
   ]
  },
  {
   "cell_type": "code",
   "execution_count": 75,
   "metadata": {},
   "outputs": [],
   "source": [
    "test = test.reset_index()"
   ]
  },
  {
   "cell_type": "code",
   "execution_count": null,
   "metadata": {},
   "outputs": [],
   "source": []
  }
 ],
 "metadata": {
  "kernelspec": {
   "display_name": "Python 3",
   "language": "python",
   "name": "python3"
  },
  "language_info": {
   "codemirror_mode": {
    "name": "ipython",
    "version": 3
   },
   "file_extension": ".py",
   "mimetype": "text/x-python",
   "name": "python",
   "nbconvert_exporter": "python",
   "pygments_lexer": "ipython3",
   "version": "3.6.4"
  }
 },
 "nbformat": 4,
 "nbformat_minor": 2
}
